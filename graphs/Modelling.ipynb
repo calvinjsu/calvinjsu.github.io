{
 "cells": [
  {
   "cell_type": "code",
   "execution_count": 60,
   "metadata": {},
   "outputs": [
    {
     "data": {
      "application/vnd.jupyter.widget-view+json": {
       "model_id": "7ffbf85793f54f55804392140349d7fc",
       "version_major": 2,
       "version_minor": 0
      },
      "text/plain": [
       "interactive(children=(FloatSlider(value=0.75, description='beta', max=1.0, step=0.01), FloatSlider(value=0.25,…"
      ]
     },
     "metadata": {},
     "output_type": "display_data"
    }
   ],
   "source": [
    "import matplotlib.pyplot as plt\n",
    "import numpy as np\n",
    "from ipywidgets import interact, FloatSlider\n",
    "\n",
    "# update funcs\n",
    "def dS(S, I, N, beta):\n",
    "    return -beta*S*I/N\n",
    "def dE(S, E, I, N, beta, sigma):\n",
    "    return beta*S*I/(N) - sigma*E\n",
    "def dI(E, I, sigma, gamma, death):\n",
    "    return sigma*E - gamma*I - death*I\n",
    "def dR(I, gamma):\n",
    "    return gamma*I\n",
    "\n",
    "\n",
    "\n",
    "def plot(beta=0.75, sigma=0.25, gamma=0.33, death=0.01):\n",
    "    x = np.arange(0,101,1)\n",
    "    S, E, I, R, N = [990], [0], [10], [0], [1000] # initial population\n",
    "    for i in range(100):\n",
    "        S.append(S[i] + dS(S[i], I[i], N[i], beta))\n",
    "        E.append(E[i] + dE(S[i], E[i], I[i], N[i], beta, sigma))\n",
    "        I.append(I[i] + dI(E[i], I[i], sigma, gamma, death))\n",
    "        R.append(R[i] + dR(I[i], gamma))\n",
    "        N.append(S[i]+E[i]+I[i]+R[i])\n",
    "    plt.plot(x, S, label = \"S\")\n",
    "    plt.plot(x, E, label = \"E\")\n",
    "    plt.plot(x, I, label = \"I\")\n",
    "    plt.plot(x, R, label = \"R\")\n",
    "    plt.plot(x, N, label = \"N\")\n",
    "    plt.legend()\n",
    "    plt.title((\"R_0 = \" + str(beta/gamma)[0:4]))\n",
    "p=interact(plot, beta=(0,1,0.01), sigma=(0,0.5,0.01), gamma=(0,0.5,0.01), death=(0,0.25,0.01))\n",
    "plt.show()"
   ]
  },
  {
   "cell_type": "code",
   "execution_count": null,
   "metadata": {},
   "outputs": [],
   "source": []
  }
 ],
 "metadata": {
  "kernelspec": {
   "display_name": "Python 3",
   "language": "python",
   "name": "python3"
  },
  "language_info": {
   "codemirror_mode": {
    "name": "ipython",
    "version": 3
   },
   "file_extension": ".py",
   "mimetype": "text/x-python",
   "name": "python",
   "nbconvert_exporter": "python",
   "pygments_lexer": "ipython3",
   "version": "3.6.3"
  }
 },
 "nbformat": 4,
 "nbformat_minor": 2
}
