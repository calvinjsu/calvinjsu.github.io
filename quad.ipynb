{
 "cells": [
  {
   "cell_type": "code",
   "execution_count": 1,
   "metadata": {},
   "outputs": [
    {
     "data": {
      "application/vnd.jupyter.widget-view+json": {
       "model_id": "65c20ae1fd2b4b80ad71505a78c0d568",
       "version_major": 2,
       "version_minor": 0
      },
      "text/plain": [
       "VBox(children=(interactive(children=(FloatSlider(value=0.0, description='a', max=5.0, min=-5.0), FloatSlider(v…"
      ]
     },
     "metadata": {},
     "output_type": "display_data"
    }
   ],
   "source": [
    "# nbi:hide_in\n",
    "import nbinteract as nbi\n",
    "import numpy as np\n",
    "from ipywidgets import interact\n",
    "\n",
    "def xvals():\n",
    "    return np.arange(-10,10, 0.1)\n",
    "def yvals(x, a, b, c):\n",
    "    return a*x**2 + b*x + c\n",
    "\n",
    "opts={\n",
    "    'xlim': (-10, 10),\n",
    "    'ylim': (-150, 150),\n",
    "    'animation_duration': 250,\n",
    "}\n",
    "\n",
    "nbi.line(xvals, yvals, a=(-5,5,0.1), b=(-25,25,0.5), c=(-125,125,2.5), options=opts)"
   ]
  },
  {
   "cell_type": "code",
   "execution_count": null,
   "metadata": {},
   "outputs": [],
   "source": []
  }
 ],
 "metadata": {
  "kernelspec": {
   "display_name": "Python 3",
   "language": "python",
   "name": "python3"
  },
  "language_info": {
   "codemirror_mode": {
    "name": "ipython",
    "version": 3
   },
   "file_extension": ".py",
   "mimetype": "text/x-python",
   "name": "python",
   "nbconvert_exporter": "python",
   "pygments_lexer": "ipython3",
   "version": "3.7.8"
  }
 },
 "nbformat": 4,
 "nbformat_minor": 4
}
